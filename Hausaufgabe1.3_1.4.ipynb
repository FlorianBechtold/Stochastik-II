{
 "cells": [
  {
   "cell_type": "markdown",
   "id": "25f79b86-5fae-422d-ae1a-a7c90c56c898",
   "metadata": {},
   "source": [
    "<font size=\"6\">Parameterschätzen Normalverteilung"
   ]
  },
  {
   "cell_type": "code",
   "execution_count": 308,
   "id": "c8ec65b4-2bd5-4dfd-911a-07f6d1b47a33",
   "metadata": {},
   "outputs": [],
   "source": [
    "import matplotlib.pyplot as plt\n",
    "from matplotlib.widgets import Slider\n",
    "import numpy as np\n",
    "import scipy.stats as stats\n",
    "from scipy.stats import norm\n",
    "from ipywidgets import interact\n",
    "import ipywidgets as widgets\n",
    "from scipy.special import comb\n",
    "from scipy.stats import binom\n",
    "from scipy.special import factorial\n",
    "from scipy.stats import norm\n"
   ]
  },
  {
   "cell_type": "code",
   "execution_count": 310,
   "id": "514dfae4-6875-4d16-bf9b-b8fcc3fa925e",
   "metadata": {},
   "outputs": [
    {
     "data": {
      "text/latex": [
       "Wir erinnern: Eine Zufallsvariable $X$ heißt Normalverteilt mit Mittelwert $\\mu\\in \\mathbb{R}$ und Varianz $\\sigma^2>0$, falls diese über folgende Dichte auf $\\mathbb{R}$ verfügt\n",
       "\\[\n",
       "\\mathbb{P}(X\\in (a, b))=\\int_a^b \\frac{1}{2\\pi \\sigma^2}\\exp\\left(\\frac{(x-\\mu)^2}{2\\sigma^2}\\right)dx\n",
       "    \\]\n"
      ],
      "text/plain": [
       "<IPython.core.display.Latex object>"
      ]
     },
     "metadata": {},
     "output_type": "display_data"
    }
   ],
   "source": [
    "%%latex\n",
    "Wir erinnern: Eine Zufallsvariable $X$ heißt Normalverteilt mit Mittelwert $\\mu\\in \\mathbb{R}$ und Varianz $\\sigma^2>0$, falls diese über folgende Dichte auf $\\mathbb{R}$ verfügt\n",
    "\\[\n",
    "\\mathbb{P}(X\\in (a, b))=\\int_a^b \\frac{1}{2\\pi \\sigma^2}\\exp\\left(\\frac{(x-\\mu)^2}{2\\sigma^2}\\right)dx\n",
    "    \\]"
   ]
  },
  {
   "cell_type": "code",
   "execution_count": 312,
   "id": "8248d496-a0ca-4b4f-9bf1-67932e763b46",
   "metadata": {},
   "outputs": [
    {
     "data": {
      "text/latex": [
       "Wir visualisieren die obige Dichte für verschiedene Werte von $\\mu$ und $\\sigma^2$. \n"
      ],
      "text/plain": [
       "<IPython.core.display.Latex object>"
      ]
     },
     "metadata": {},
     "output_type": "display_data"
    }
   ],
   "source": [
    "%%latex\n",
    "Wir visualisieren die obige Dichte für verschiedene Werte von $\\mu$ und $\\sigma^2$. "
   ]
  },
  {
   "cell_type": "code",
   "execution_count": 314,
   "id": "c7427e8d-82eb-4612-ad43-5572dfd1325b",
   "metadata": {},
   "outputs": [
    {
     "data": {
      "application/vnd.jupyter.widget-view+json": {
       "model_id": "a4581c7312ec471b852aca147be21ebc",
       "version_major": 2,
       "version_minor": 0
      },
      "text/plain": [
       "interactive(children=(FloatSlider(value=1.0, description='μ', layout=Layout(width='500px'), max=5.0, min=-5.0)…"
      ]
     },
     "metadata": {},
     "output_type": "display_data"
    },
    {
     "data": {
      "text/plain": [
       "<function __main__.normplot(mu, sigma2)>"
      ]
     },
     "execution_count": 314,
     "metadata": {},
     "output_type": "execute_result"
    }
   ],
   "source": [
    "def normplot(mu, sigma2):\n",
    "    k=np.arange(-5, 5, 0.01)\n",
    "    p=norm.pdf(k, loc=mu, scale=np.sqrt(sigma2))\n",
    "    plt.title(f'Dichte der Normalverteilung (μ = {round(mu, 2)}, σ²={round(sigma2, 2)})')\n",
    "    plt.xlabel('x')\n",
    "    plt.ylabel('p(x)')\n",
    "    plt.plot(k, p)\n",
    "    plt.ylim(0, 0.5)\n",
    "    plt.show()\n",
    "    \n",
    "slider_mu=widgets.FloatSlider(value=1, min=-5, max=5, description='μ', description_width='auto', orientation='horizontal', layout=widgets.Layout(width='500px'), readout=True)\n",
    "slider_sig=widgets.FloatSlider(value=1, min=0.3, max=5, description='σ²', description_width='auto', orientation='horizontal', layout=widgets.Layout(width='500px'), readout=True)\n",
    "interact(normplot, mu=slider_mu, sigma2=slider_sig)"
   ]
  },
  {
   "cell_type": "markdown",
   "id": "1bec46ae-c386-4d5e-a43d-51bb55a2ef43",
   "metadata": {},
   "source": [
    "<font size=\"5\">Szenario 1: Mittelwert bekannt, Varianz unbekannt"
   ]
  },
  {
   "cell_type": "code",
   "execution_count": 317,
   "id": "e9c03487-1361-4491-bf6e-62ee1805be91",
   "metadata": {},
   "outputs": [
    {
     "data": {
      "text/latex": [
       "Wir haben nun Daten gegeben, von denen wir wissen, dass sie normalverteilt sind. Wir kennen außerdem $\\mu=0$\n"
      ],
      "text/plain": [
       "<IPython.core.display.Latex object>"
      ]
     },
     "metadata": {},
     "output_type": "display_data"
    }
   ],
   "source": [
    "%%latex\n",
    "Wir haben nun Daten gegeben, von denen wir wissen, dass sie normalverteilt sind. Wir kennen außerdem $\\mu=0$"
   ]
  },
  {
   "cell_type": "code",
   "execution_count": 321,
   "id": "aa8377d7-54bc-4d1e-9f94-46f42fcbe180",
   "metadata": {},
   "outputs": [
    {
     "data": {
      "image/png": "[encoded data removed]",
      "text/plain": [
       "<Figure size 640x480 with 1 Axes>"
      ]
     },
     "metadata": {},
     "output_type": "display_data"
    }
   ],
   "source": [
    "#Referenz für pseudo-Zufallszahl. Kann beliegib geändert werden, um neue Beispiele zu erzeugen.\n",
    "np.random.seed(421689)\n",
    "#Nehme (pseudo)-zufallszahl sig2 zwischen 1 und 5\n",
    "sig2=np.round(np.random.uniform(1, 5), 2)\n",
    "#Nehme Stichprobe der Länge 'size', welche normalverteilt mit Varianz sig2 ist\n",
    "sam= np.round(np.random.normal(loc=0, scale=np.sqrt(sig2), size=10000), 2)\n",
    "plt.hist(sam, bins=80, density=True)\n",
    "plt.show()"
   ]
  },
  {
   "cell_type": "code",
   "execution_count": 323,
   "id": "c5d3252f-3ae2-4fd7-9972-ff93971300b5",
   "metadata": {},
   "outputs": [
    {
     "data": {
      "text/latex": [
       "Nach Hausaufgabe ist der maximum likelyhood Schätzer gegeben durch \n",
       "\\[\n",
       "\\hat{\\sigma}^2_{ML}=\\frac{1}{n}\\sum_{k=1}^n(X_i-0)^2\n",
       "    \\]\n"
      ],
      "text/plain": [
       "<IPython.core.display.Latex object>"
      ]
     },
     "metadata": {},
     "output_type": "display_data"
    }
   ],
   "source": [
    "%%latex\n",
    "Nach Hausaufgabe ist der maximum likelyhood Schätzer gegeben durch \n",
    "\\[\n",
    "\\hat{\\sigma}^2_{ML}=\\frac{1}{n}\\sum_{k=1}^n(X_i-0)^2\n",
    "    \\]"
   ]
  },
  {
   "cell_type": "code",
   "execution_count": 325,
   "id": "29f47308-6373-4fc2-aba6-77c037e9323c",
   "metadata": {},
   "outputs": [
    {
     "name": "stdout",
     "output_type": "stream",
     "text": [
      "2.13\n"
     ]
    }
   ],
   "source": [
    "#In unserem Fall ergibt dies\n",
    "sig2ML=np.round(np.mean(np.square(sam)), 2)\n",
    "print(sig2ML)"
   ]
  },
  {
   "cell_type": "code",
   "execution_count": 329,
   "id": "8d069fe8-85d4-4b4c-bc9d-76b3df438646",
   "metadata": {},
   "outputs": [
    {
     "data": {
      "application/vnd.jupyter.widget-view+json": {
       "model_id": "4ce4301b8251479cbc837c0e3092bbe6",
       "version_major": 2,
       "version_minor": 0
      },
      "text/plain": [
       "interactive(children=(FloatSlider(value=1.0, description='σ²', layout=Layout(width='500px'), max=5.0, min=0.3)…"
      ]
     },
     "metadata": {},
     "output_type": "display_data"
    },
    {
     "data": {
      "text/plain": [
       "<function __main__.normplotfit(sigma2)>"
      ]
     },
     "execution_count": 329,
     "metadata": {},
     "output_type": "execute_result"
    }
   ],
   "source": [
    "def normplotfit(sigma2):\n",
    "    k=np.arange(-5, 5, 0.01)\n",
    "    p=norm.pdf(k, loc=0, scale=np.sqrt(sigma2))\n",
    "    plt.title(f'Dichte der Normalverteilung (μ = 0, σ²={round(sigma2, 2)})')\n",
    "    plt.xlabel('x')\n",
    "    plt.ylabel('p(x)')\n",
    "    plt.plot(k, p)\n",
    "    plt.ylim(0, 0.5)\n",
    "    plt.hist(sam, density=True, bins=80)\n",
    "    plt.show()\n",
    "slider_sig=widgets.FloatSlider(value=1, min=0.3, max=5, description='σ²', description_width='auto', orientation='horizontal', layout=widgets.Layout(width='500px'), readout=True)\n",
    "interact(normplotfit, sigma2=slider_sig)"
   ]
  },
  {
   "cell_type": "code",
   "execution_count": 350,
   "id": "66a21f8d-b764-4a5d-af0a-d21dbf7f7b7b",
   "metadata": {},
   "outputs": [
    {
     "name": "stdout",
     "output_type": "stream",
     "text": [
      "2.14\n"
     ]
    }
   ],
   "source": [
    "#Tatsächlicher Wert war\n",
    "print(sig2)"
   ]
  },
  {
   "cell_type": "markdown",
   "id": "babdda75-f030-4dab-9816-17a734b99d4e",
   "metadata": {},
   "source": [
    "<font size=\"5\">Szenario 2: Varianz bekannt, Mittelwert unbekannt"
   ]
  },
  {
   "cell_type": "code",
   "execution_count": 353,
   "id": "40627a81-4322-49a2-a2a4-8d975fecfd13",
   "metadata": {},
   "outputs": [
    {
     "data": {
      "text/latex": [
       "Wir haben nun Daten gegeben, von denen wir wissen, dass sie normalverteilt sind. Wir kennen außerdem $\\sigma^2=1$\n"
      ],
      "text/plain": [
       "<IPython.core.display.Latex object>"
      ]
     },
     "metadata": {},
     "output_type": "display_data"
    }
   ],
   "source": [
    "%%latex\n",
    "Wir haben nun Daten gegeben, von denen wir wissen, dass sie normalverteilt sind. Wir kennen außerdem $\\sigma^2=1$"
   ]
  },
  {
   "cell_type": "code",
   "execution_count": 363,
   "id": "0aed4119-e927-4bf7-895c-7281653fafc3",
   "metadata": {},
   "outputs": [
    {
     "data": {
      "image/png": "[encoded data removed]",
      "text/plain": [
       "<Figure size 640x480 with 1 Axes>"
      ]
     },
     "metadata": {},
     "output_type": "display_data"
    }
   ],
   "source": [
    "#Referenz für pseudo-Zufallszahl. Kann beliegib geändert werden, um neue Beispiele zu erzeugen.\n",
    "np.random.seed(42146)\n",
    "#Nehme (pseudo)-zufallszahl mu zwischen -3 und 3\n",
    "mu=np.round(np.random.uniform(-3, 3), 2)\n",
    "#Nehme Stichprobe der Länge 'size', welche normalverteilt mit Varianz sig2 ist\n",
    "sam2= np.round(np.random.normal(loc=mu, scale=1, size=10000), 2)\n",
    "plt.hist(sam2, bins=80, density=True)\n",
    "plt.show()"
   ]
  },
  {
   "cell_type": "code",
   "execution_count": 365,
   "id": "18bc2c1c-1623-4455-84c8-2a751fe85c84",
   "metadata": {},
   "outputs": [
    {
     "data": {
      "text/latex": [
       "Nach Hausaufgabe ist der maximum likelyhood Schätzer gegeben durch \n",
       "\\[\n",
       "\\hat{\\mu}_{ML}=\\frac{1}{n}\\sum_{k=1}^nX_i\n",
       "    \\]\n"
      ],
      "text/plain": [
       "<IPython.core.display.Latex object>"
      ]
     },
     "metadata": {},
     "output_type": "display_data"
    }
   ],
   "source": [
    "%%latex\n",
    "Nach Hausaufgabe ist der maximum likelyhood Schätzer gegeben durch \n",
    "\\[\n",
    "\\hat{\\mu}_{ML}=\\frac{1}{n}\\sum_{k=1}^nX_i\n",
    "    \\]"
   ]
  },
  {
   "cell_type": "code",
   "execution_count": 367,
   "id": "83b7f98e-a803-428e-a597-4229209174e6",
   "metadata": {},
   "outputs": [
    {
     "name": "stdout",
     "output_type": "stream",
     "text": [
      "-1.79\n"
     ]
    }
   ],
   "source": [
    "#In unserem Fall ergibt dies\n",
    "muML=np.round(np.mean(sam2), 2)\n",
    "print(muML)"
   ]
  },
  {
   "cell_type": "code",
   "execution_count": 369,
   "id": "c8c0bd5d-1795-410c-8085-81a376642f28",
   "metadata": {},
   "outputs": [
    {
     "data": {
      "application/vnd.jupyter.widget-view+json": {
       "model_id": "a91760c193ea48c5b72cb31492bd87c5",
       "version_major": 2,
       "version_minor": 0
      },
      "text/plain": [
       "interactive(children=(FloatSlider(value=0.0, description='μ', layout=Layout(width='500px'), max=5.0, min=-5.0)…"
      ]
     },
     "metadata": {},
     "output_type": "display_data"
    },
    {
     "data": {
      "text/plain": [
       "<function __main__.normplotfit2(mu)>"
      ]
     },
     "execution_count": 369,
     "metadata": {},
     "output_type": "execute_result"
    }
   ],
   "source": [
    "def normplotfit2(mu):\n",
    "    k=np.arange(-5, 5, 0.01)\n",
    "    p=norm.pdf(k, loc=mu, scale=1)\n",
    "    plt.title(f'Dichte der Normalverteilung (μ = {round(mu, 2)}, σ²=1)')\n",
    "    plt.xlabel('x')\n",
    "    plt.ylabel('p(x)')\n",
    "    plt.plot(k, p)\n",
    "    plt.ylim(0, 0.5)\n",
    "    plt.hist(sam2, density=True, bins=80)\n",
    "    plt.show()\n",
    "slider_mu=widgets.FloatSlider(value=0, min=-5, max=5, description='μ', description_width='auto', orientation='horizontal', layout=widgets.Layout(width='500px'), readout=True)\n",
    "interact(normplotfit2, mu=slider_mu)"
   ]
  },
  {
   "cell_type": "code",
   "execution_count": 371,
   "id": "847743c6-0655-4ec7-969f-13f3a4fdf604",
   "metadata": {},
   "outputs": [
    {
     "name": "stdout",
     "output_type": "stream",
     "text": [
      "-1.8\n"
     ]
    }
   ],
   "source": [
    "#Tatsächlicher Wert war \n",
    "print(mu)"
   ]
  },
  {
   "cell_type": "markdown",
   "id": "691aa283-1346-4b34-8ee5-8233b303142f",
   "metadata": {},
   "source": [
    "<font size=\"5\">Szenario 3: Mittelwert unbekannt, Varianz unbekannt"
   ]
  },
  {
   "cell_type": "code",
   "execution_count": 855,
   "id": "c7eff0b3-ba46-4c59-ab3a-04c46a4b48a5",
   "metadata": {},
   "outputs": [
    {
     "data": {
      "image/png": "[encoded data removed]",
      "text/plain": [
       "<Figure size 640x480 with 1 Axes>"
      ]
     },
     "metadata": {},
     "output_type": "display_data"
    },
    {
     "name": "stdout",
     "output_type": "stream",
     "text": [
      "-0.9\n",
      "4.82\n"
     ]
    }
   ],
   "source": [
    "np.random.seed(461)\n",
    "#Nehme (pseudo)-zufallszahl mu zwischen -3 und 3\n",
    "mu3=np.round(np.random.uniform(-3, 3), 2)\n",
    "sig21=np.round(np.random.uniform(1, 5), 2)\n",
    "#Wieviele Punkte möchten wir samplen?\n",
    "n=100\n",
    "bins=int(2*np.cbrt(n))\n",
    "data= np.random.normal(loc=mu3, scale=np.sqrt(sig21), size=n)\n",
    "plt.hist(data, bins=bins, density=True)\n",
    "plt.show()\n",
    "print(mu3)\n",
    "print(sig21)"
   ]
  },
  {
   "cell_type": "code",
   "execution_count": 857,
   "id": "0e44e153-9f0e-4480-8882-3c9c997c3381",
   "metadata": {},
   "outputs": [
    {
     "data": {
      "text/latex": [
       "Nach Vorlesung sind folgende Größen erwartungstreue Schätzer\n",
       "\\[\n",
       "\\hat{\\mu}=\\frac{1}{n}\\sum_{k=1}^nX_i, \\qquad \\hat{\\sigma}^2=\\frac{1}{n-1}\\sum_{k=1}^n (X_k-\\hat{\\mu})^2\n",
       "    \\]\n"
      ],
      "text/plain": [
       "<IPython.core.display.Latex object>"
      ]
     },
     "metadata": {},
     "output_type": "display_data"
    }
   ],
   "source": [
    "%%latex\n",
    "Nach Vorlesung sind folgende Größen erwartungstreue Schätzer\n",
    "\\[\n",
    "\\hat{\\mu}=\\frac{1}{n}\\sum_{k=1}^nX_i, \\qquad \\hat{\\sigma}^2=\\frac{1}{n-1}\\sum_{k=1}^n (X_k-\\hat{\\mu})^2\n",
    "    \\]"
   ]
  },
  {
   "cell_type": "code",
   "execution_count": 859,
   "id": "c275b02a-e7b9-4ecf-bcf2-11d8ff7cf57c",
   "metadata": {},
   "outputs": [
    {
     "name": "stdout",
     "output_type": "stream",
     "text": [
      "mu=-1.025429842681323\n",
      "sigma^2=4.633102108220829\n"
     ]
    }
   ],
   "source": [
    "#Berechnung\n",
    "muhat=np.mean(data)\n",
    "sigma2hat=np.mean(np.square(data-muhat))*n/(n-1)\n",
    "print(f'mu={muhat}')\n",
    "print(f'sigma^2={sigma2hat}')"
   ]
  },
  {
   "cell_type": "code",
   "execution_count": 861,
   "id": "a73d1c79-bab7-4a19-a2c1-799cab9745c8",
   "metadata": {},
   "outputs": [
    {
     "data": {
      "text/latex": [
       "Vergleiche dies mit nicht erwartungstreuem Schätzer\n",
       "\\[\n",
       "\\hat{\\sigma}_w^2=\\frac{1}{n}\\sum_{k=1}^n (X_k-\\hat{\\mu})^2\n",
       "    \\]\n"
      ],
      "text/plain": [
       "<IPython.core.display.Latex object>"
      ]
     },
     "metadata": {},
     "output_type": "display_data"
    }
   ],
   "source": [
    "%%latex\n",
    "Vergleiche dies mit nicht erwartungstreuem Schätzer\n",
    "\\[\n",
    "\\hat{\\sigma}_w^2=\\frac{1}{n}\\sum_{k=1}^n (X_k-\\hat{\\mu})^2\n",
    "    \\]"
   ]
  },
  {
   "cell_type": "code",
   "execution_count": 863,
   "id": "9f7fc987-0b83-49c6-800f-c440d2a22c7d",
   "metadata": {},
   "outputs": [
    {
     "name": "stdout",
     "output_type": "stream",
     "text": [
      "sigma^2_w=4.5867710871386205\n"
     ]
    }
   ],
   "source": [
    "#Vergleich nicht nicht erwartungstreuem Schätzer für Varianz\n",
    "sigma2hatwrong=np.mean(np.square(data-muhat))\n",
    "print(f'sigma^2_w={sigma2hatwrong}')"
   ]
  },
  {
   "cell_type": "code",
   "execution_count": 877,
   "id": "8265b695-baf2-4fa5-9123-406ab1ccce41",
   "metadata": {},
   "outputs": [
    {
     "data": {
      "image/png": "[encoded data removed]",
      "text/plain": [
       "<Figure size 640x480 with 1 Axes>"
      ]
     },
     "metadata": {},
     "output_type": "display_data"
    }
   ],
   "source": [
    "k=np.arange(-5, 5, 0.01)\n",
    "p=norm.pdf(k, loc=muhat, scale=np.sqrt(sigma2hat))\n",
    "pwrong=norm.pdf(k, loc=muhat, scale=np.sqrt(sigma2hatwrong))\n",
    "plt.title(f'Dichten der Normalverteilung')\n",
    "plt.xlabel('x')\n",
    "plt.ylabel('p(x)')\n",
    "plt.plot(k, p, label=f'Geschätzte Normalverteilung (μ = {round(muhat, 2)}, σ²={round(sigma2hat, 2)})')\n",
    "plt.plot(k, pwrong, label=f'falsch geschätzt (μ = {round(muhat, 2)}, σ²={round(sigma2hatwrong, 2)})')\n",
    "plt.ylim(0, 0.5)\n",
    "plt.hist(data, density=True, bins=bins, label='Sample')\n",
    "plt.legend()\n",
    "plt.show()"
   ]
  },
  {
   "cell_type": "code",
   "execution_count": 879,
   "id": "eb71f4f2-b29e-48bd-b346-ab5de0f92018",
   "metadata": {},
   "outputs": [
    {
     "name": "stdout",
     "output_type": "stream",
     "text": [
      "-0.9\n",
      "4.82\n"
     ]
    }
   ],
   "source": [
    "#Tatsächliche Werte\n",
    "print(mu3)\n",
    "print(sig21)"
   ]
  },
  {
   "cell_type": "markdown",
   "id": "111d3728-ae6c-4c69-9f31-61de742f00cb",
   "metadata": {},
   "source": [
    "<font size=\"5\">Szenario 4: Varianz=Erwartungswert (Aufgabe 1.4)"
   ]
  },
  {
   "cell_type": "code",
   "execution_count": 908,
   "id": "115a91cc-7276-4513-a58f-fead2c15b032",
   "metadata": {},
   "outputs": [
    {
     "data": {
      "image/png": "[encoded data removed]",
      "text/plain": [
       "<Figure size 640x480 with 1 Axes>"
      ]
     },
     "metadata": {},
     "output_type": "display_data"
    }
   ],
   "source": [
    "#Referenz für pseudo-Zufallszahl. Kann beliegib geändert werden, um neue Beispiele zu erzeugen.\n",
    "np.random.seed(421689)\n",
    "#Nehme (pseudo)-zufallszahl sig2 zwischen 1 und 5\n",
    "theta=np.round(np.random.uniform(1, 5), 2)\n",
    "#Nehme Stichprobe der Länge 'size', welche normalverteilt mit Varianz sig2 ist\n",
    "data_theta= np.round(np.random.normal(loc=theta, scale=np.sqrt(theta), size=10000), 2)\n",
    "plt.hist(data_theta, bins=80, density=True)\n",
    "plt.xlim(-10, 10)\n",
    "plt.ylim(0, 0.5)\n",
    "plt.show()"
   ]
  },
  {
   "cell_type": "code",
   "execution_count": 910,
   "id": "9abe9e85-8913-4d37-94eb-a706c50b3f70",
   "metadata": {},
   "outputs": [
    {
     "data": {
      "application/vnd.jupyter.widget-view+json": {
       "model_id": "45c4f9bea19d4ed7a4d3fac0a6a8f114",
       "version_major": 2,
       "version_minor": 0
      },
      "text/plain": [
       "interactive(children=(FloatSlider(value=1.0, description='μ', layout=Layout(width='500px'), max=5.0, min=1.0),…"
      ]
     },
     "metadata": {},
     "output_type": "display_data"
    },
    {
     "data": {
      "text/plain": [
       "<function __main__.normplotfittheta(theta)>"
      ]
     },
     "execution_count": 910,
     "metadata": {},
     "output_type": "execute_result"
    }
   ],
   "source": [
    "def normplotfittheta(theta):\n",
    "    k=np.arange(-10, 10, 0.01)\n",
    "    p=norm.pdf(k, loc=theta, scale=np.sqrt(theta))\n",
    "    plt.title(f'Dichte der Normalverteilung (μ = σ²={round(theta, 2)})')\n",
    "    plt.xlabel('x')\n",
    "    plt.ylabel('p(x)')\n",
    "    plt.plot(k, p)\n",
    "    plt.ylim(0, 0.5)\n",
    "    plt.hist(data_theta, density=True, bins=80)\n",
    "    plt.show()\n",
    "slider_theta=widgets.FloatSlider(value=1, min=1, max=5, description='μ', description_width='auto', orientation='horizontal', layout=widgets.Layout(width='500px'), readout=True)\n",
    "interact(normplotfittheta, theta=slider_theta)"
   ]
  },
  {
   "cell_type": "code",
   "execution_count": 912,
   "id": "dc8dcd92-788b-467d-8b58-24e83b9ea4c5",
   "metadata": {},
   "outputs": [
    {
     "data": {
      "text/latex": [
       "Nach Hausaufgabe ist MLE für den Parameter $\\theta$ gegeben durch\n",
       "\\[\n",
       "\\hat{\\theta}=-\\frac{1}{2}+\\sqrt{\\frac{1}{4}+\\frac{1}{n}\\sum_{k=1}^nX_k^2}\n",
       "    \\]\n"
      ],
      "text/plain": [
       "<IPython.core.display.Latex object>"
      ]
     },
     "metadata": {},
     "output_type": "display_data"
    }
   ],
   "source": [
    "%%latex\n",
    "Nach Hausaufgabe ist MLE für den Parameter $\\theta$ gegeben durch\n",
    "\\[\n",
    "\\hat{\\theta}=-\\frac{1}{2}+\\sqrt{\\frac{1}{4}+\\frac{1}{n}\\sum_{k=1}^nX_k^2}\n",
    "    \\]"
   ]
  },
  {
   "cell_type": "code",
   "execution_count": 914,
   "id": "35c6e176-a1af-47e1-adff-ba7a60df8147",
   "metadata": {},
   "outputs": [
    {
     "name": "stdout",
     "output_type": "stream",
     "text": [
      "2.152910132288691\n"
     ]
    }
   ],
   "source": [
    "#In unserem Fall\n",
    "thetahat=-0.5+np.sqrt(0.25+np.mean(np.square(data_theta)))\n",
    "print(thetahat)"
   ]
  },
  {
   "cell_type": "code",
   "execution_count": 902,
   "id": "5b7149e3-7ec5-4926-b4d4-795a40d37301",
   "metadata": {},
   "outputs": [
    {
     "data": {
      "image/png": "[encoded data removed]",
      "text/plain": [
       "<Figure size 640x480 with 1 Axes>"
      ]
     },
     "metadata": {},
     "output_type": "display_data"
    }
   ],
   "source": [
    "normplotfittheta(thetahat)"
   ]
  }
 ],
 "metadata": {
  "kernelspec": {
   "display_name": "Python [conda env:base] *",
   "language": "python",
   "name": "conda-base-py"
  },
  "language_info": {
   "codemirror_mode": {
    "name": "ipython",
    "version": 3
   },
   "file_extension": ".py",
   "mimetype": "text/x-python",
   "name": "python",
   "nbconvert_exporter": "python",
   "pygments_lexer": "ipython3",
   "version": "3.12.7"
  }
 },
 "nbformat": 4,
 "nbformat_minor": 5
}
