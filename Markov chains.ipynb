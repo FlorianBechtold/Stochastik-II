{
 "cells": [
  {
   "cell_type": "code",
   "execution_count": 15,
   "id": "4f8fa1f8-5c46-4e0f-9196-6a7687b7c300",
   "metadata": {},
   "outputs": [
    {
     "data": {
      "application/vnd.jupyter.widget-view+json": {
       "model_id": "820a14273879455d8763af5952a451ab",
       "version_major": 2,
       "version_minor": 0
      },
      "text/plain": [
       "interactive(children=(IntSlider(value=1, description='Iteration', layout=Layout(width='500px'), max=10, min=1)…"
      ]
     },
     "metadata": {},
     "output_type": "display_data"
    },
    {
     "data": {
      "text/plain": [
       "<function __main__.plotting(n=10)>"
      ]
     },
     "execution_count": 15,
     "metadata": {},
     "output_type": "execute_result"
    }
   ],
   "source": [
    "import matplotlib.pyplot as plt\n",
    "from matplotlib.widgets import Slider\n",
    "import seaborn as sns\n",
    "import numpy as np\n",
    "import scipy.stats as stats\n",
    "from scipy.stats import norm\n",
    "from ipywidgets import interact\n",
    "import ipywidgets as widgets\n",
    "from scipy.special import comb\n",
    "from scipy.stats import binom\n",
    "\n",
    "matrix=np.array([[1, 0.5, 0.25, 0.25, 0], [0, 0, 0.25, 0, 0], [0, 0.25, 0, 0.25, 0], [0, 0, 0.25, 0, 0], [0, 0.25, 0.25, 0.5, 1]])\n",
    "initial_configuration=np.array([0, 0, 1, 0, 0])\n",
    "\n",
    "def iteration(it):\n",
    "    new_state=np.matmul(np.linalg.matrix_power(matrix, it), np.transpose(initial_configuration))\n",
    "    return new_state\n",
    "\n",
    "def listing(n=20):\n",
    "    z=[]\n",
    "    z.append(initial_configuration)\n",
    "    for i in range(n):\n",
    "        z.append(iteration(i))\n",
    "    return z\n",
    "\n",
    "def plotting(n=10):\n",
    "    x=range(len(initial_configuration))\n",
    "    plt.bar(x, listing(n)[n])\n",
    "    plt.show()\n",
    "\n",
    "\n",
    "slider_res=widgets.IntSlider(value=1, min=1, max=10, description='Iteration', orientation='horizontal', layout=widgets.Layout(width='500px'), readout=True)\n",
    "\n",
    "# Use interact to link the slider with the iteration function\n",
    "interact(plotting, n=slider_res)"
   ]
  },
  {
   "cell_type": "code",
   "execution_count": null,
   "id": "7382b7b3-4afc-4bdc-86ac-b53f1ea77d99",
   "metadata": {},
   "outputs": [],
   "source": []
  }
 ],
 "metadata": {
  "kernelspec": {
   "display_name": "Python [conda env:base] *",
   "language": "python",
   "name": "conda-base-py"
  },
  "language_info": {
   "codemirror_mode": {
    "name": "ipython",
    "version": 3
   },
   "file_extension": ".py",
   "mimetype": "text/x-python",
   "name": "python",
   "nbconvert_exporter": "python",
   "pygments_lexer": "ipython3",
   "version": "3.12.7"
  }
 },
 "nbformat": 4,
 "nbformat_minor": 5
}
