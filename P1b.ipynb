{
 "cells": [
  {
   "cell_type": "code",
   "execution_count": 1,
   "id": "ba28c14e-0355-4022-8ec3-cf5850db453a",
   "metadata": {},
   "outputs": [],
   "source": [
    "import pandas as pd\n",
    "import matplotlib.pyplot as plt\n",
    "from matplotlib.widgets import Slider\n",
    "import numpy as np\n",
    "import scipy.stats as stats\n",
    "from scipy.stats import norm\n",
    "from ipywidgets import interact, widgets\n",
    "from scipy.special import comb\n",
    "from scipy.stats import binom\n",
    "from scipy.special import factorial"
   ]
  },
  {
   "cell_type": "code",
   "execution_count": 2,
   "id": "7b9cd8ef-5b90-46eb-ba12-d2f0c62a9e44",
   "metadata": {},
   "outputs": [
    {
     "data": {
      "text/latex": [
       "In der vorherigen Aufgabe haben wir angenommen, dass unsere Daten Poisson verteilt sind und ausgehend hiervon den Parameter $\\lambda$ geschätzt. \n",
       "Allerdings haben echte Daten selten so viel 'Struktur' (warum sollten diese und jene Daten Poisson verteilt sein?). \n",
       "Angenommen wir haben irgendwelche Daten gegeben und müssen hieraus die zugrundeliegende Verteilungsfunktion bestimmen. Wie gehen wir vor?\n"
      ],
      "text/plain": [
       "<IPython.core.display.Latex object>"
      ]
     },
     "metadata": {},
     "output_type": "display_data"
    }
   ],
   "source": [
    "%%latex\n",
    "In der vorherigen Aufgabe haben wir angenommen, dass unsere Daten Poisson verteilt sind und ausgehend hiervon den Parameter $\\lambda$ geschätzt. \n",
    "Allerdings haben echte Daten selten so viel 'Struktur' (warum sollten diese und jene Daten Poisson verteilt sein?). \n",
    "Angenommen wir haben irgendwelche Daten gegeben und müssen hieraus die zugrundeliegende Verteilungsfunktion bestimmen. Wie gehen wir vor?"
   ]
  },
  {
   "cell_type": "code",
   "execution_count": 3,
   "id": "a0ea388c-2067-469d-bca1-907e51b93717",
   "metadata": {},
   "outputs": [
    {
     "data": {
      "text/latex": [
       "Unten finden sich Daten der Körpergröße (in cm) von 131 Personen im Alter von 18 Jahren, Quelle: https://wiki.socr.umich.edu/index.php/SOCR_Data_Dinov_020108_HeightsWeights\n"
      ],
      "text/plain": [
       "<IPython.core.display.Latex object>"
      ]
     },
     "metadata": {},
     "output_type": "display_data"
    }
   ],
   "source": [
    "%%latex\n",
    "Unten finden sich Daten der Körpergröße (in cm) von 131 Personen im Alter von 18 Jahren, Quelle: https://wiki.socr.umich.edu/index.php/SOCR_Data_Dinov_020108_HeightsWeights"
   ]
  },
  {
   "cell_type": "code",
   "execution_count": 4,
   "id": "04265ff4-8d58-427b-b70f-dc756322fb66",
   "metadata": {},
   "outputs": [
    {
     "data": {
      "image/png": "[encoded data removed]",
      "text/plain": [
       "<Figure size 640x480 with 1 Axes>"
      ]
     },
     "metadata": {},
     "output_type": "display_data"
    }
   ],
   "source": [
    "df=pd.read_csv(\"data.csv\")\n",
    "height=df.iloc[:,3]\n",
    "plt.xlabel('Körpergröße (cm)')\n",
    "plt.ylabel('Häufigkeit')\n",
    "plt.hist(height, bins=np.linspace(160, 190, 60))\n",
    "plt.show()\n"
   ]
  },
  {
   "cell_type": "code",
   "execution_count": 5,
   "id": "7400f1be-96f4-40ee-9f7c-7d4be37ca3a8",
   "metadata": {},
   "outputs": [
    {
     "data": {
      "text/latex": [
       "Ausgehend von diesen Daten, was schätzen wir ist die Warhscheinlichkeit, dass ein 18-jähriger kleiner als 170cm ist?\n",
       "Wir könnten z.B. zählen wie viele 18-jährige kleiner sind als 170cm und durch die Anzahl der 18-jährigen in unseren Daten teilen, in anderen Worten\n",
       "\\[\n",
       "\\frac{1}{131}\\sum_{k=1}^{131} \\mathbb{1}_{(-\\infty, 170]}(X_i)=F_{131}(170)\n",
       "\\]\n",
       "Allgemeiner, falls wir $n$ Datenpunkte gegeben haben würden wir die Wahrscheinlichkeit, dass ein 18-jähriger kleiner ist als $x-cm$ mittels des Schätzers\n",
       "\\[\n",
       "F_n(x)=\\frac{1}{n}\\sum_{i=1}^n \\mathbb{1}_{(-\\infty, x]}(X_i)\n",
       "\\]\n"
      ],
      "text/plain": [
       "<IPython.core.display.Latex object>"
      ]
     },
     "metadata": {},
     "output_type": "display_data"
    }
   ],
   "source": [
    "%%latex\n",
    "Ausgehend von diesen Daten, was schätzen wir ist die Warhscheinlichkeit, dass ein 18-jähriger kleiner als 170cm ist?\n",
    "Wir könnten z.B. zählen wie viele 18-jährige kleiner sind als 170cm und durch die Anzahl der 18-jährigen in unseren Daten teilen, in anderen Worten\n",
    "\\[\n",
    "\\frac{1}{131}\\sum_{k=1}^{131} \\mathbb{1}_{(-\\infty, 170]}(X_i)=F_{131}(170)\n",
    "\\]\n",
    "Allgemeiner, falls wir $n$ Datenpunkte gegeben haben würden wir die Wahrscheinlichkeit, dass ein 18-jähriger kleiner ist als $x-cm$ mittels des Schätzers\n",
    "\\[\n",
    "F_n(x)=\\frac{1}{n}\\sum_{i=1}^n \\mathbb{1}_{(-\\infty, x]}(X_i)\n",
    "\\]"
   ]
  },
  {
   "cell_type": "code",
   "execution_count": 14,
   "id": "767c6b25-c2c0-4d18-ad2a-54fa351f19e3",
   "metadata": {},
   "outputs": [
    {
     "data": {
      "application/vnd.jupyter.widget-view+json": {
       "model_id": "bb6dc66329544c298f0ba23fc1937c41",
       "version_major": 2,
       "version_minor": 0
      },
      "text/plain": [
       "interactive(children=(IntSlider(value=170, description='Kleiner als', layout=Layout(width='500px'), max=190, m…"
      ]
     },
     "metadata": {},
     "output_type": "display_data"
    },
    {
     "data": {
      "text/plain": [
       "<function __main__.empi(he)>"
      ]
     },
     "execution_count": 14,
     "metadata": {},
     "output_type": "execute_result"
    }
   ],
   "source": [
    "def empi(he):\n",
    "    height2=height[height<he]\n",
    "    p=round(len(height2)/len(height), 2)\n",
    "    plt.xlabel('Körpergröße (cm)')\n",
    "    plt.ylabel('Häufigkeit')\n",
    "    plt.hist(height2, np.linspace(160, 190, 60), alpha=1, label=f'W-Keit kleiner als {he} ist {p}')\n",
    "    plt.hist(height, np.linspace(160, 190, 60), alpha=0.3)\n",
    "    plt.legend()\n",
    "    plt.show()\n",
    "\n",
    "slider=widgets.IntSlider(value=170, min=160, max=190, description='Kleiner als', description_width='auto', orientation='horizontal', layout=widgets.Layout(width='500px'), readout=True)\n",
    "interact(empi, he=slider)\n",
    "\n",
    "\n"
   ]
  },
  {
   "cell_type": "code",
   "execution_count": null,
   "id": "91ebf9cb-5ddc-4ab1-8538-4760fa8a060c",
   "metadata": {},
   "outputs": [],
   "source": []
  },
  {
   "cell_type": "code",
   "execution_count": null,
   "id": "16875ffb-8044-4734-a5ff-a6b9cd283239",
   "metadata": {},
   "outputs": [],
   "source": []
  }
 ],
 "metadata": {
  "kernelspec": {
   "display_name": "Python [conda env:base] *",
   "language": "python",
   "name": "conda-base-py"
  },
  "language_info": {
   "codemirror_mode": {
    "name": "ipython",
    "version": 3
   },
   "file_extension": ".py",
   "mimetype": "text/x-python",
   "name": "python",
   "nbconvert_exporter": "python",
   "pygments_lexer": "ipython3",
   "version": "3.12.7"
  }
 },
 "nbformat": 4,
 "nbformat_minor": 5
}
