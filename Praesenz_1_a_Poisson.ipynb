{
 "cells": [
  {
   "cell_type": "code",
   "execution_count": 1,
   "id": "5f72d747-f0ff-4811-92d5-a907d219b2b9",
   "metadata": {},
   "outputs": [],
   "source": [
    "import matplotlib.pyplot as plt\n",
    "from matplotlib.widgets import Slider\n",
    "import numpy as np\n",
    "import scipy.stats as stats\n",
    "from scipy.stats import norm\n",
    "from ipywidgets import interact\n",
    "import ipywidgets as widgets\n",
    "from scipy.special import comb\n",
    "from scipy.stats import binom\n",
    "from scipy.special import factorial\n"
   ]
  },
  {
   "cell_type": "code",
   "execution_count": 2,
   "id": "de84781f-6585-4a96-b08e-cadd3bf40ee1",
   "metadata": {},
   "outputs": [
    {
     "data": {
      "text/latex": [
       "Wir erinnern: Eine Zufallsvariable $X$ heißt Poisson verteilt mit Parameter $\\lambda>0$ falls für alle $k\\in \\mathbb{N}_0$ gilt \n",
       "\\[\n",
       "\\mathbb{P}(X=k)=\\frac{\\lambda^k}{k!}e^{-\\lambda}\n",
       "\\]\n"
      ],
      "text/plain": [
       "<IPython.core.display.Latex object>"
      ]
     },
     "metadata": {},
     "output_type": "display_data"
    }
   ],
   "source": [
    "%%latex\n",
    "Wir erinnern: Eine Zufallsvariable $X$ heißt Poisson verteilt mit Parameter $\\lambda>0$ falls für alle $k\\in \\mathbb{N}_0$ gilt \n",
    "\\[\n",
    "\\mathbb{P}(X=k)=\\frac{\\lambda^k}{k!}e^{-\\lambda}\n",
    "\\]"
   ]
  },
  {
   "cell_type": "code",
   "execution_count": 5,
   "id": "c70d89dd-e1a0-41b8-9b1d-52981c22a818",
   "metadata": {},
   "outputs": [
    {
     "data": {
      "text/latex": [
       "Wir visualisieren die obigen Gewichte für verschiedene Werte von $\\lambda>0$. \n"
      ],
      "text/plain": [
       "<IPython.core.display.Latex object>"
      ]
     },
     "metadata": {},
     "output_type": "display_data"
    }
   ],
   "source": [
    "%%latex\n",
    "Wir visualisieren die obigen Gewichte für verschiedene Werte von $\\lambda>0$. "
   ]
  },
  {
   "cell_type": "code",
   "execution_count": 9,
   "id": "50abef59-1e60-485f-9204-515eafdd6222",
   "metadata": {},
   "outputs": [
    {
     "data": {
      "application/vnd.jupyter.widget-view+json": {
       "model_id": "fb9e45e45dd14acf9b22add3ee728858",
       "version_major": 2,
       "version_minor": 0
      },
      "text/plain": [
       "interactive(children=(FloatSlider(value=1.0, description='lambda', layout=Layout(width='500px'), max=40.0, min…"
      ]
     },
     "metadata": {},
     "output_type": "display_data"
    },
    {
     "data": {
      "text/plain": [
       "<function __main__.plotpoisson(lam)>"
      ]
     },
     "execution_count": 9,
     "metadata": {},
     "output_type": "execute_result"
    }
   ],
   "source": [
    "def plotpoisson(lam):\n",
    "    k=np.arange(50)\n",
    "    p=lam**k/factorial(k)*np.exp(-lam)\n",
    "    plt.title(f'Gewichte der Poisson Verteilung (λ = {lam})')\n",
    "    plt.xlabel('k')\n",
    "    plt.ylabel('P(X=k)')\n",
    "    plt.bar(k, p)\n",
    "    plt.ylim(0, 0.35)\n",
    "    plt.show()\n",
    "    \n",
    "slider_lam=widgets.FloatSlider(value=1, min=1, max=40, description='lambda', description_width='auto', orientation='horizontal', layout=widgets.Layout(width='500px'), readout=True)\n",
    "interact(plotpoisson, lam=slider_lam)"
   ]
  },
  {
   "cell_type": "code",
   "execution_count": 11,
   "id": "b2543099-6694-4601-9ef6-cb5139b74fbd",
   "metadata": {},
   "outputs": [
    {
     "data": {
      "text/latex": [
       "Wir haben nun Daten gegeben, von denen wir wissen, dass sie Poisson verteilt sind. Allerdings kennen wir nicht den Parameter $\\lambda$.\n",
       "Wir möchten diesen schätzen\n"
      ],
      "text/plain": [
       "<IPython.core.display.Latex object>"
      ]
     },
     "metadata": {},
     "output_type": "display_data"
    }
   ],
   "source": [
    "%%latex\n",
    "Wir haben nun Daten gegeben, von denen wir wissen, dass sie Poisson verteilt sind. Allerdings kennen wir nicht den Parameter $\\lambda$.\n",
    "Wir möchten diesen schätzen"
   ]
  },
  {
   "cell_type": "code",
   "execution_count": 15,
   "id": "a20706e6-9810-4158-b69c-e4c3ba2b190b",
   "metadata": {},
   "outputs": [
    {
     "data": {
      "application/vnd.jupyter.widget-view+json": {
       "model_id": "5906604c4f2e4c3f8e5eb354e429e50d",
       "version_major": 2,
       "version_minor": 0
      },
      "text/plain": [
       "interactive(children=(FloatSlider(value=1.0, description='lambda', layout=Layout(width='500px'), max=40.0, min…"
      ]
     },
     "metadata": {},
     "output_type": "display_data"
    },
    {
     "data": {
      "text/plain": [
       "<function __main__.plotpoissonfit(lam)>"
      ]
     },
     "execution_count": 15,
     "metadata": {},
     "output_type": "execute_result"
    }
   ],
   "source": [
    "#Referenz für pseudo-Zufallszahl. Kann beliegib geändert werden, um neue Beispiele zu erzeugen.\n",
    "np.random.seed(421766)\n",
    "#Nehme (pseudo)-zufallszahl lamo zwischen 10 und 39\n",
    "lamo=np.random.randint(10, 40)\n",
    "#Nehme Stichprobe der Länge 'size', welche nach Poisson Verteilung zum Parameter lamo verteilt ist\n",
    "sam=np.random.poisson(lamo, size=1000)\n",
    "\n",
    "def plotpoissonfit(lam):\n",
    "    k=np.arange(50)\n",
    "    p=lam**k/factorial(k)*np.exp(-lam)\n",
    "    plt.xlabel('k')\n",
    "    plt.ylabel('P(X=k)')\n",
    "    plt.bar(k, p, label=f'Poisson Verteilung Parameter λ = {lam}')\n",
    "    plt.ylim(0, 0.35)\n",
    "    plt.title('Punktschätzer für λ')\n",
    "    plt.hist(sam, density=True, alpha=0.6, color='orange', label='normierte Stichprobe', bins=20)\n",
    "    plt.xlim(0, 50)\n",
    "    plt.ylim(0, 0.35)\n",
    "    plt.legend()\n",
    "    plt.show()\n",
    "\n",
    "   \n",
    "slider_lam=widgets.FloatSlider(value=1, min=1, max=40, description='lambda', description_width='auto', orientation='horizontal', layout=widgets.Layout(width='500px'), readout=True)\n",
    "interact(plotpoissonfit, lam=slider_lam)"
   ]
  },
  {
   "cell_type": "code",
   "execution_count": 17,
   "id": "50ff8c6a-9126-4b8b-988c-8e502c19059f",
   "metadata": {},
   "outputs": [
    {
     "data": {
      "text/latex": [
       "Aus dem obigen plot lesen wir $\\lambda$ ab. Wir vergleichen mit dem arithmetischen Mittel, was einen erwartungstreuen Schätzer gibt.\n"
      ],
      "text/plain": [
       "<IPython.core.display.Latex object>"
      ]
     },
     "metadata": {},
     "output_type": "display_data"
    }
   ],
   "source": [
    "%%latex\n",
    "Aus dem obigen plot lesen wir $\\lambda$ ab. Wir vergleichen mit dem arithmetischen Mittel, was einen erwartungstreuen Schätzer gibt."
   ]
  },
  {
   "cell_type": "code",
   "execution_count": 19,
   "id": "b9f2a08a-4a61-4631-8713-24d94eaf3c65",
   "metadata": {},
   "outputs": [
    {
     "name": "stdout",
     "output_type": "stream",
     "text": [
      "18.083\n"
     ]
    }
   ],
   "source": [
    "lammean=np.mean(sam)\n",
    "print(lammean)"
   ]
  },
  {
   "cell_type": "code",
   "execution_count": 21,
   "id": "bcbbf899-607f-4ada-86ab-8f605376c172",
   "metadata": {},
   "outputs": [
    {
     "data": {
      "text/latex": [
       "Schließlich vergleichen wir mit dem tatsächlichen Wert für $\\lambda$.\n"
      ],
      "text/plain": [
       "<IPython.core.display.Latex object>"
      ]
     },
     "metadata": {},
     "output_type": "display_data"
    }
   ],
   "source": [
    "%%latex\n",
    "Schließlich vergleichen wir mit dem tatsächlichen Wert für $\\lambda$."
   ]
  },
  {
   "cell_type": "code",
   "execution_count": 23,
   "id": "b9140882-4370-4dfb-aad1-e739a5ea1366",
   "metadata": {},
   "outputs": [
    {
     "name": "stdout",
     "output_type": "stream",
     "text": [
      "18\n"
     ]
    }
   ],
   "source": [
    "print(lamo)"
   ]
  },
  {
   "cell_type": "code",
   "execution_count": 25,
   "id": "099ddb46-5231-4655-92ee-47277270c9ad",
   "metadata": {},
   "outputs": [
    {
     "data": {
      "text/latex": [
       "Die (quadratische) Abweichung $\\delta$ unseres erwartungstreuen Schätzers vom tatsächlichen Wert ist also\n"
      ],
      "text/plain": [
       "<IPython.core.display.Latex object>"
      ]
     },
     "metadata": {},
     "output_type": "display_data"
    }
   ],
   "source": [
    "%%latex\n",
    "Die (quadratische) Abweichung $\\delta$ unseres erwartungstreuen Schätzers vom tatsächlichen Wert ist also"
   ]
  },
  {
   "cell_type": "code",
   "execution_count": 27,
   "id": "65833690-8062-41fa-a72b-717ce3336b9e",
   "metadata": {},
   "outputs": [
    {
     "name": "stdout",
     "output_type": "stream",
     "text": [
      "0.006888999999999736\n"
     ]
    }
   ],
   "source": [
    "delta=(lammean-lamo)**2\n",
    "print(delta)"
   ]
  },
  {
   "cell_type": "code",
   "execution_count": 29,
   "id": "48132d20-82d2-488d-852b-16d4720892ee",
   "metadata": {},
   "outputs": [
    {
     "data": {
      "text/latex": [
       "Dieser Wert $\\delta$ ist abhängig von der konkreten Stichprobe, die wir gezogen haben und dabei insbesondere von $n$, also der Stichprobengröße. \n",
       "Was ist nun die 'typischerweise zu erwartende Abweichung bei fester Stichprobengröße $n$'? Also wenn wir quasi 'unendlich häufig' eine Stichprobe der Länge $n$ ziehen würden und das arithmetische Mittel der quadratischen Abweichungen berechneten?\n",
       "Nach dem Gesetz der großen Zahlen ist das\n",
       "\\[\n",
       "\\lim_{N\\to \\infty}\\frac{1}{N}\\sum_{k=1}^N(\\frac{1}{n}\\sum_{i=1}^n X_i^{(k)}-\\lambda)^2= \\mathbb{E}_\\lambda\\left[(\\frac{1}{n}\\sum_{i=1}^n X_i-\\lambda)^2\\right]=R(\\lambda)\n",
       "\\]\n",
       "also genau das Risiko. Nimmt dieses in $n$ ab, dann bedeutet dies, dass 'typischerweise' unsere quadratische Abweichung abnimmt, also dass wir immer besser den eigentlichen Wert von $\\lambda$ schätzen. \n"
      ],
      "text/plain": [
       "<IPython.core.display.Latex object>"
      ]
     },
     "metadata": {},
     "output_type": "display_data"
    }
   ],
   "source": [
    "%%latex\n",
    "Dieser Wert $\\delta$ ist abhängig von der konkreten Stichprobe, die wir gezogen haben und dabei insbesondere von $n$, also der Stichprobengröße. \n",
    "Was ist nun die 'typischerweise zu erwartende Abweichung bei fester Stichprobengröße $n$'? Also wenn wir quasi 'unendlich häufig' eine Stichprobe der Länge $n$ ziehen würden und das arithmetische Mittel der quadratischen Abweichungen berechneten?\n",
    "Nach dem Gesetz der großen Zahlen ist das\n",
    "\\[\n",
    "\\lim_{N\\to \\infty}\\frac{1}{N}\\sum_{k=1}^N(\\frac{1}{n}\\sum_{i=1}^n X_i^{(k)}-\\lambda)^2= \\mathbb{E}_\\lambda\\left[(\\frac{1}{n}\\sum_{i=1}^n X_i-\\lambda)^2\\right]=R(\\lambda)\n",
    "\\]\n",
    "also genau das Risiko. Nimmt dieses in $n$ ab, dann bedeutet dies, dass 'typischerweise' unsere quadratische Abweichung abnimmt, also dass wir immer besser den eigentlichen Wert von $\\lambda$ schätzen. \n"
   ]
  },
  {
   "cell_type": "code",
   "execution_count": null,
   "id": "e65469a7-cd47-4f5a-9766-4130443c7c6d",
   "metadata": {},
   "outputs": [],
   "source": []
  }
 ],
 "metadata": {
  "kernelspec": {
   "display_name": "Python [conda env:base] *",
   "language": "python",
   "name": "conda-base-py"
  },
  "language_info": {
   "codemirror_mode": {
    "name": "ipython",
    "version": 3
   },
   "file_extension": ".py",
   "mimetype": "text/x-python",
   "name": "python",
   "nbconvert_exporter": "python",
   "pygments_lexer": "ipython3",
   "version": "3.12.7"
  }
 },
 "nbformat": 4,
 "nbformat_minor": 5
}
