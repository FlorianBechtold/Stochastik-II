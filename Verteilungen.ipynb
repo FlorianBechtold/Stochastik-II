{
 "cells": [
  {
   "cell_type": "code",
   "execution_count": 121,
   "id": "10c2492b-9f92-4b9b-a39d-ac3cca0aef61",
   "metadata": {},
   "outputs": [],
   "source": [
    "import matplotlib.pyplot as plt\n",
    "from matplotlib.widgets import Slider\n",
    "import numpy as np\n",
    "import scipy.stats as stats\n",
    "from scipy.stats import norm\n",
    "from ipywidgets import interact\n",
    "import ipywidgets as widgets\n",
    "from scipy.special import comb\n",
    "from scipy.stats import binom\n",
    "from scipy.special import factorial\n",
    "from scipy.stats import expon"
   ]
  },
  {
   "cell_type": "markdown",
   "id": "ce18e778-5f28-416f-8512-ec8f2cd66f92",
   "metadata": {},
   "source": [
    "# Veranschaulichung gängiger Verteilungen in Abhängigkeit ihrer Parameter"
   ]
  },
  {
   "cell_type": "markdown",
   "id": "2b08661b-dec8-4999-9358-2b436faf4c42",
   "metadata": {},
   "source": [
    "##### Übersicht:\n",
    "##### 1) Binomialverteilung\n",
    "##### 2) Normalverteilung\n",
    "##### 3) Poisson Verteilung\n",
    "##### 4) Exponentialverteilung"
   ]
  },
  {
   "cell_type": "markdown",
   "id": "692321c2-bbd8-4c5e-90a7-7d07934f5e83",
   "metadata": {},
   "source": [
    "### 1) Binomialverteilung"
   ]
  },
  {
   "cell_type": "code",
   "execution_count": 167,
   "id": "4c787e5c-6dbf-402a-a046-b52a8648b06a",
   "metadata": {},
   "outputs": [
    {
     "data": {
      "text/latex": [
       "Eine Zufallsvariable $X$ heißt binomialverteilt zu Parametern $(n, p)$, falls für $k=0, \\ldots n$ gilt\n",
       "\\[\n",
       "\\mathbb{P}(X=k)={n \\choose k}p^k (1-p)^{n-k}\n",
       "    \\]\n"
      ],
      "text/plain": [
       "<IPython.core.display.Latex object>"
      ]
     },
     "metadata": {},
     "output_type": "display_data"
    }
   ],
   "source": [
    "%%latex\n",
    "Eine Zufallsvariable $X$ heißt binomialverteilt zu Parametern $(n, p)$, falls für $k=0, \\ldots n$ gilt\n",
    "\\[\n",
    "\\mathbb{P}(X=k)={n \\choose k}p^k (1-p)^{n-k}\n",
    "    \\]"
   ]
  },
  {
   "cell_type": "markdown",
   "id": "2a14c1c9-c7f2-45a2-b3a0-935a2b7cbcfb",
   "metadata": {},
   "source": [
    "##### Wir plotten die assoziierten Gewichte in Abhängigkeit der Parameter $(n, p)$. "
   ]
  },
  {
   "cell_type": "code",
   "execution_count": 165,
   "id": "b4bc9295-9beb-4a6c-b1aa-a2b76a6c136b",
   "metadata": {},
   "outputs": [
    {
     "data": {
      "application/vnd.jupyter.widget-view+json": {
       "model_id": "53f9098add5e4dcc8f0648a5c5eca28c",
       "version_major": 2,
       "version_minor": 0
      },
      "text/plain": [
       "interactive(children=(IntSlider(value=10, description='n', layout=Layout(width='600px'), max=60, min=1), Float…"
      ]
     },
     "metadata": {},
     "output_type": "display_data"
    }
   ],
   "source": [
    "def plotbinom(n, p):\n",
    "    k=np.arange(60)\n",
    "    pk=[binom.pmf(z, n, p) for z in k]\n",
    "    plt.xlabel('k')\n",
    "    plt.ylabel('P(X=k)')\n",
    "    plt.title(f'Gewichte der Binomial Verteilung zum Parameter {(n, p)}')\n",
    "    plt.bar(k, pk)\n",
    "    plt.ylim(0, 0.2)\n",
    "    plt.show()\n",
    "    \n",
    "    return None\n",
    "slider_n=widgets.IntSlider(value=10, min=1, max=60, description='n', description_width='auto', orientation='horizontal', layout=widgets.Layout(width='600px'), readout=True)\n",
    "slider_p=widgets.FloatSlider(value=0.5, min=0.1, max=0.9, description='p', description_width='auto', orientation='horizontal', layout=widgets.Layout(width='600px'), readout=True)\n",
    "interact(plotbinom, n=slider_n, p=slider_p);"
   ]
  },
  {
   "cell_type": "markdown",
   "id": "ae2a784c-7aec-46a1-8eb9-1d71003d8f75",
   "metadata": {},
   "source": [
    "### 2) Normalverteilung"
   ]
  },
  {
   "cell_type": "code",
   "execution_count": 138,
   "id": "5d712f39-186c-409f-816d-a12dbf15f49e",
   "metadata": {},
   "outputs": [
    {
     "data": {
      "text/latex": [
       "Eine Zufallsvariable $X$ heißt Normalverteilt mit Mittelwert $\\mu\\in \\mathbb{R}$ und Varianz $\\sigma^2>0$, falls diese über folgende Dichte auf $\\mathbb{R}$ verfügt\n",
       "\\[\n",
       "\\mathbb{P}(X\\in (a, b))=\\int_a^b \\frac{1}{2\\pi \\sigma^2}\\exp\\left(\\frac{(x-\\mu)^2}{2\\sigma^2}\\right)dx\n",
       "    \\]\n"
      ],
      "text/plain": [
       "<IPython.core.display.Latex object>"
      ]
     },
     "metadata": {},
     "output_type": "display_data"
    }
   ],
   "source": [
    "%%latex\n",
    "Eine Zufallsvariable $X$ heißt Normalverteilt mit Mittelwert $\\mu\\in \\mathbb{R}$ und Varianz $\\sigma^2>0$, falls diese über folgende Dichte auf $\\mathbb{R}$ verfügt\n",
    "\\[\n",
    "\\mathbb{P}(X\\in (a, b))=\\int_a^b \\frac{1}{2\\pi \\sigma^2}\\exp\\left(\\frac{(x-\\mu)^2}{2\\sigma^2}\\right)dx\n",
    "    \\]"
   ]
  },
  {
   "cell_type": "code",
   "execution_count": 140,
   "id": "4a27ace6-bb71-496d-941b-bd68f582579f",
   "metadata": {},
   "outputs": [
    {
     "data": {
      "text/latex": [
       "Wir visualisieren die obige Dichte für verschiedene Werte von $\\mu$ und $\\sigma^2$. \n"
      ],
      "text/plain": [
       "<IPython.core.display.Latex object>"
      ]
     },
     "metadata": {},
     "output_type": "display_data"
    }
   ],
   "source": [
    "%%latex\n",
    "Wir visualisieren die obige Dichte für verschiedene Werte von $\\mu$ und $\\sigma^2$. "
   ]
  },
  {
   "cell_type": "code",
   "execution_count": 142,
   "id": "b2037600-92f3-4874-a37d-dc08d90181e1",
   "metadata": {},
   "outputs": [
    {
     "data": {
      "application/vnd.jupyter.widget-view+json": {
       "model_id": "7123e4973b2749c4b945281480cad4eb",
       "version_major": 2,
       "version_minor": 0
      },
      "text/plain": [
       "interactive(children=(FloatSlider(value=1.0, description='μ', layout=Layout(width='500px'), max=5.0, min=-5.0)…"
      ]
     },
     "metadata": {},
     "output_type": "display_data"
    }
   ],
   "source": [
    "def normplot(mu, sigma2):\n",
    "    k=np.arange(-5, 5, 0.01)\n",
    "    p=norm.pdf(k, loc=mu, scale=np.sqrt(sigma2))\n",
    "    plt.title(f'Dichte der Normalverteilung (μ = {round(mu, 2)}, σ²={round(sigma2, 2)})')\n",
    "    plt.xlabel('x')\n",
    "    plt.ylabel('p(x)')\n",
    "    plt.plot(k, p)\n",
    "    plt.ylim(0, 0.5)\n",
    "    plt.show()\n",
    "    \n",
    "slider_mu=widgets.FloatSlider(value=1, min=-5, max=5, description='μ', description_width='auto', orientation='horizontal', layout=widgets.Layout(width='500px'), readout=True)\n",
    "slider_sig=widgets.FloatSlider(value=1, min=0.3, max=5, description='σ²', description_width='auto', orientation='horizontal', layout=widgets.Layout(width='500px'), readout=True)\n",
    "interact(normplot, mu=slider_mu, sigma2=slider_sig);"
   ]
  },
  {
   "cell_type": "markdown",
   "id": "abf1a071-2dab-40ed-ae7e-f38406f7a1a9",
   "metadata": {},
   "source": [
    "### 3) Poisson Verteilung"
   ]
  },
  {
   "cell_type": "code",
   "execution_count": 145,
   "id": "b9b35787-fbb2-4422-9909-f521220d691e",
   "metadata": {},
   "outputs": [
    {
     "data": {
      "text/latex": [
       "Eine Zufallsvariable $X$ heißt Poisson verteilt mit Parameter $\\lambda>0$ falls für alle $k\\in \\mathbb{N}_0$ gilt \n",
       "\\[\n",
       "\\mathbb{P}(X=k)=\\frac{\\lambda^k}{k!}e^{-\\lambda}\n",
       "\\]\n"
      ],
      "text/plain": [
       "<IPython.core.display.Latex object>"
      ]
     },
     "metadata": {},
     "output_type": "display_data"
    }
   ],
   "source": [
    "%%latex\n",
    "Eine Zufallsvariable $X$ heißt Poisson verteilt mit Parameter $\\lambda>0$ falls für alle $k\\in \\mathbb{N}_0$ gilt \n",
    "\\[\n",
    "\\mathbb{P}(X=k)=\\frac{\\lambda^k}{k!}e^{-\\lambda}\n",
    "\\]\n"
   ]
  },
  {
   "cell_type": "code",
   "execution_count": 147,
   "id": "62acc027-dd7f-4b3c-90ee-344a1a15c572",
   "metadata": {},
   "outputs": [
    {
     "data": {
      "application/vnd.jupyter.widget-view+json": {
       "model_id": "f0fec2028d8242c6aee35611b23f617f",
       "version_major": 2,
       "version_minor": 0
      },
      "text/plain": [
       "interactive(children=(FloatSlider(value=1.0, description='lambda', layout=Layout(width='500px'), max=40.0, min…"
      ]
     },
     "metadata": {},
     "output_type": "display_data"
    }
   ],
   "source": [
    "def plotpoisson(lam):\n",
    "    k=np.arange(50)\n",
    "    p=lam**k/factorial(k)*np.exp(-lam)\n",
    "    plt.title(f'Gewichte der Poisson Verteilung (λ = {lam})')\n",
    "    plt.xlabel('k')\n",
    "    plt.ylabel('P(X=k)')\n",
    "    plt.bar(k, p)\n",
    "    plt.ylim(0, 0.35)\n",
    "    plt.show()\n",
    "    \n",
    "slider_lam=widgets.FloatSlider(value=1, min=1, max=40, description='lambda', description_width='auto', orientation='horizontal', layout=widgets.Layout(width='500px'), readout=True)\n",
    "interact(plotpoisson, lam=slider_lam);"
   ]
  },
  {
   "cell_type": "markdown",
   "id": "ab199c44-9663-4deb-b2f0-979ef2305cec",
   "metadata": {},
   "source": [
    "### 4) Exponentialverteilung"
   ]
  },
  {
   "cell_type": "code",
   "execution_count": 150,
   "id": "794c1978-3fdc-4610-a30f-31035576a3f8",
   "metadata": {},
   "outputs": [
    {
     "data": {
      "text/latex": [
       "Eine Zufallsvariable $X$ heißt Exponential verteilt mit Parameter $\\theta>0$ falls diese über folgende Dichte auf $\\mathbb{R}$ verfügt\n",
       "\\[\n",
       "\\mathbb{P}(X\\in (a, b))=\\int_a^b\\theta e^{-\\theta x}\\mathbb{1}_{x\\geq 0}dx\n",
       "\\]\n"
      ],
      "text/plain": [
       "<IPython.core.display.Latex object>"
      ]
     },
     "metadata": {},
     "output_type": "display_data"
    }
   ],
   "source": [
    "%%latex\n",
    "Eine Zufallsvariable $X$ heißt Exponential verteilt mit Parameter $\\theta>0$ falls diese über folgende Dichte auf $\\mathbb{R}$ verfügt\n",
    "\\[\n",
    "\\mathbb{P}(X\\in (a, b))=\\int_a^b\\theta e^{-\\theta x}\\mathbb{1}_{x\\geq 0}dx\n",
    "\\]"
   ]
  },
  {
   "cell_type": "code",
   "execution_count": 152,
   "id": "688b04fa-e9b9-4f04-80a9-ff86e9af2094",
   "metadata": {},
   "outputs": [
    {
     "data": {
      "application/vnd.jupyter.widget-view+json": {
       "model_id": "4a3c9e1348fb4ff78a499357721d7273",
       "version_major": 2,
       "version_minor": 0
      },
      "text/plain": [
       "interactive(children=(FloatSlider(value=1.0, description='theta', layout=Layout(width='500px'), max=20.0, min=…"
      ]
     },
     "metadata": {},
     "output_type": "display_data"
    }
   ],
   "source": [
    "def expplot(theta):\n",
    "    k=np.arange(0, 10, 0.01)\n",
    "    p=expon.pdf(k, scale=theta)\n",
    "    plt.title(f'Dichte der Exponentialverteilung zum Parameter theta = {theta}')\n",
    "    plt.xlabel('x')\n",
    "    plt.ylabel('p(x)')\n",
    "    plt.plot(k, p)\n",
    "    plt.ylim(0, 1)\n",
    "    plt.show()\n",
    "    \n",
    "slider_theta=widgets.FloatSlider(value=1, min=0.1, max=20, description='theta', description_width='auto', orientation='horizontal', layout=widgets.Layout(width='500px'), readout=True)\n",
    "interact(expplot, theta=slider_theta);"
   ]
  },
  {
   "cell_type": "code",
   "execution_count": null,
   "id": "323855fa-0ff5-4774-8bcf-67d6b5eb0877",
   "metadata": {},
   "outputs": [],
   "source": []
  }
 ],
 "metadata": {
  "kernelspec": {
   "display_name": "Python [conda env:base] *",
   "language": "python",
   "name": "conda-base-py"
  },
  "language_info": {
   "codemirror_mode": {
    "name": "ipython",
    "version": 3
   },
   "file_extension": ".py",
   "mimetype": "text/x-python",
   "name": "python",
   "nbconvert_exporter": "python",
   "pygments_lexer": "ipython3",
   "version": "3.12.7"
  }
 },
 "nbformat": 4,
 "nbformat_minor": 5
}
